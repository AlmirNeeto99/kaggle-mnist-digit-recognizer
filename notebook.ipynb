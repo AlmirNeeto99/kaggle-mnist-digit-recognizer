print('Running notebook')

from main import run
